{
 "cells": [
  {
   "cell_type": "markdown",
   "metadata": {},
   "source": [
    "### Importing the Libraries"
   ]
  },
  {
   "cell_type": "code",
   "execution_count": 1,
   "metadata": {},
   "outputs": [],
   "source": [
    "import tensorflow as tf\n",
    "from keras.preprocessing.image import ImageDataGenerator\n",
    "import os\n",
    "os.environ[\"CUDA_VISIBLE_DEVICES\"] = \"1\""
   ]
  },
  {
   "cell_type": "code",
   "execution_count": 2,
   "metadata": {},
   "outputs": [
    {
     "data": {
      "text/plain": [
       "'2.8.0'"
      ]
     },
     "execution_count": 2,
     "metadata": {},
     "output_type": "execute_result"
    }
   ],
   "source": [
    "tf.__version__ "
   ]
  },
  {
   "cell_type": "markdown",
   "metadata": {},
   "source": [
    "### Part 1 - Data Preprocessing"
   ]
  },
  {
   "cell_type": "markdown",
   "metadata": {},
   "source": [
    "#### Generating images for the Training set"
   ]
  },
  {
   "cell_type": "code",
   "execution_count": 3,
   "metadata": {},
   "outputs": [],
   "source": [
    "train_datagen = ImageDataGenerator(rescale = 1./255,\n",
    "                                   shear_range = 0.2,\n",
    "                                   zoom_range = 0.2,\n",
    "                                   horizontal_flip = True)"
   ]
  },
  {
   "cell_type": "markdown",
   "metadata": {},
   "source": [
    "#### Generating images for the Test set"
   ]
  },
  {
   "cell_type": "code",
   "execution_count": 4,
   "metadata": {},
   "outputs": [],
   "source": [
    "test_datagen = ImageDataGenerator(rescale = 1./255)"
   ]
  },
  {
   "cell_type": "markdown",
   "metadata": {},
   "source": [
    "### Creating the Training set"
   ]
  },
  {
   "cell_type": "code",
   "execution_count": 5,
   "metadata": {},
   "outputs": [
    {
     "name": "stdout",
     "output_type": "stream",
     "text": [
      "Found 6883 images belonging to 27 classes.\n"
     ]
    }
   ],
   "source": [
    "training_set = train_datagen.flow_from_directory('C:/Users/zaiba/Documents/Final_CoC/dataSet/trainingData',                                \n",
    "                                                 target_size = (128, 128),\n",
    "                                                 batch_size = 10,\n",
    "                                                 color_mode = 'grayscale',                                \n",
    "                                                 class_mode = 'categorical')"
   ]
  },
  {
   "cell_type": "code",
   "execution_count": 6,
   "metadata": {},
   "outputs": [
    {
     "name": "stdout",
     "output_type": "stream",
     "text": [
      "Found 6883 images belonging to 27 classes.\n"
     ]
    }
   ],
   "source": [
    "test_set = test_datagen.flow_from_directory('C:/Users/zaiba/Documents/Final_CoC/dataSet/testingData',\n",
    "                                            target_size = (128, 128),                                  \n",
    "                                            batch_size = 10,        \n",
    "                                            color_mode = 'grayscale',\n",
    "                                            class_mode = 'categorical')"
   ]
  },
  {
   "cell_type": "markdown",
   "metadata": {},
   "source": [
    "### Part 2 - Building the CNN"
   ]
  },
  {
   "cell_type": "markdown",
   "metadata": {},
   "source": [
    "#### Initializing the CNN"
   ]
  },
  {
   "cell_type": "code",
   "execution_count": 7,
   "metadata": {},
   "outputs": [],
   "source": [
    "classifier = tf.keras.models.Sequential()"
   ]
  },
  {
   "cell_type": "markdown",
   "metadata": {},
   "source": [
    "#### Step 1 - Convolution"
   ]
  },
  {
   "cell_type": "code",
   "execution_count": 8,
   "metadata": {},
   "outputs": [],
   "source": [
    "classifier.add(tf.keras.layers.Conv2D(filters=32,\n",
    "                                     kernel_size=3, \n",
    "                                     padding=\"same\", \n",
    "                                     activation=\"relu\", \n",
    "                                     input_shape=[128, 128, 1]))"
   ]
  },
  {
   "cell_type": "markdown",
   "metadata": {},
   "source": [
    "#### Step 2 - Pooling"
   ]
  },
  {
   "cell_type": "code",
   "execution_count": 9,
   "metadata": {},
   "outputs": [],
   "source": [
    "classifier.add(tf.keras.layers.MaxPool2D(pool_size=2, \n",
    "                                         strides=2, \n",
    "                                         padding='valid'))"
   ]
  },
  {
   "cell_type": "markdown",
   "metadata": {},
   "source": [
    "#### Adding a second convolutional layer"
   ]
  },
  {
   "cell_type": "code",
   "execution_count": 10,
   "metadata": {},
   "outputs": [],
   "source": [
    "classifier.add(tf.keras.layers.Conv2D(filters=32, \n",
    "                                      kernel_size=3, \n",
    "                                      padding=\"same\", \n",
    "                                      activation=\"relu\"))\n",
    "\n",
    "classifier.add(tf.keras.layers.MaxPool2D(pool_size=2, \n",
    "                                         strides=2, \n",
    "                                         padding='valid'))"
   ]
  },
  {
   "cell_type": "markdown",
   "metadata": {},
   "source": [
    "#### Step 3 - Flattening"
   ]
  },
  {
   "cell_type": "code",
   "execution_count": 11,
   "metadata": {},
   "outputs": [],
   "source": [
    "classifier.add(tf.keras.layers.Flatten())"
   ]
  },
  {
   "cell_type": "markdown",
   "metadata": {},
   "source": [
    "#### Step 4 - Full Connection"
   ]
  },
  {
   "cell_type": "code",
   "execution_count": 12,
   "metadata": {},
   "outputs": [],
   "source": [
    "classifier.add(tf.keras.layers.Dense(units=128, \n",
    "                                     activation='relu'))\n",
    "classifier.add(tf.keras.layers.Dropout(0.40))\n",
    "classifier.add(tf.keras.layers.Dense(units=96, activation='relu'))\n",
    "classifier.add(tf.keras.layers.Dropout(0.40))\n",
    "classifier.add(tf.keras.layers.Dense(units=64, activation='relu'))\n",
    "classifier.add(tf.keras.layers.Dense(units=27, activation='softmax')) # softmax for more than 2"
   ]
  },
  {
   "cell_type": "markdown",
   "metadata": {},
   "source": [
    "### Part 3 - Training the CNN"
   ]
  },
  {
   "cell_type": "markdown",
   "metadata": {},
   "source": [
    "#### Compiling the CNN"
   ]
  },
  {
   "cell_type": "code",
   "execution_count": 13,
   "metadata": {},
   "outputs": [],
   "source": [
    "classifier.compile(optimizer = 'adam', \n",
    "                   loss = 'categorical_crossentropy', \n",
    "                   metrics = ['accuracy'])"
   ]
  },
  {
   "cell_type": "markdown",
   "metadata": {},
   "source": [
    "#### Training the CNN on the Training set and evaluating it on the Test set"
   ]
  },
  {
   "cell_type": "code",
   "execution_count": 14,
   "metadata": {},
   "outputs": [
    {
     "name": "stdout",
     "output_type": "stream",
     "text": [
      "Model: \"sequential\"\n",
      "_________________________________________________________________\n",
      " Layer (type)                Output Shape              Param #   \n",
      "=================================================================\n",
      " conv2d (Conv2D)             (None, 128, 128, 32)      320       \n",
      "                                                                 \n",
      " max_pooling2d (MaxPooling2D  (None, 64, 64, 32)       0         \n",
      " )                                                               \n",
      "                                                                 \n",
      " conv2d_1 (Conv2D)           (None, 64, 64, 32)        9248      \n",
      "                                                                 \n",
      " max_pooling2d_1 (MaxPooling  (None, 32, 32, 32)       0         \n",
      " 2D)                                                             \n",
      "                                                                 \n",
      " flatten (Flatten)           (None, 32768)             0         \n",
      "                                                                 \n",
      " dense (Dense)               (None, 128)               4194432   \n",
      "                                                                 \n",
      " dropout (Dropout)           (None, 128)               0         \n",
      "                                                                 \n",
      " dense_1 (Dense)             (None, 96)                12384     \n",
      "                                                                 \n",
      " dropout_1 (Dropout)         (None, 96)                0         \n",
      "                                                                 \n",
      " dense_2 (Dense)             (None, 64)                6208      \n",
      "                                                                 \n",
      " dense_3 (Dense)             (None, 27)                1755      \n",
      "                                                                 \n",
      "=================================================================\n",
      "Total params: 4,224,347\n",
      "Trainable params: 4,224,347\n",
      "Non-trainable params: 0\n",
      "_________________________________________________________________\n"
     ]
    }
   ],
   "source": [
    "classifier.summary()"
   ]
  },
  {
   "cell_type": "code",
   "execution_count": 15,
   "metadata": {},
   "outputs": [
    {
     "name": "stdout",
     "output_type": "stream",
     "text": [
      "Epoch 1/10\n",
      "689/689 [==============================] - 94s 136ms/step - loss: 2.8161 - accuracy: 0.1807 - val_loss: 1.2765 - val_accuracy: 0.6910\n",
      "Epoch 2/10\n",
      "689/689 [==============================] - 85s 123ms/step - loss: 1.3010 - accuracy: 0.5958 - val_loss: 0.3856 - val_accuracy: 0.8922\n",
      "Epoch 3/10\n",
      "689/689 [==============================] - 88s 127ms/step - loss: 0.7904 - accuracy: 0.7565 - val_loss: 0.1317 - val_accuracy: 0.9609\n",
      "Epoch 4/10\n",
      "689/689 [==============================] - 84s 122ms/step - loss: 0.6211 - accuracy: 0.8066 - val_loss: 0.1210 - val_accuracy: 0.9600\n",
      "Epoch 5/10\n",
      "689/689 [==============================] - 87s 126ms/step - loss: 0.4964 - accuracy: 0.8456 - val_loss: 0.0716 - val_accuracy: 0.9815\n",
      "Epoch 6/10\n",
      "689/689 [==============================] - 85s 123ms/step - loss: 0.4190 - accuracy: 0.8685 - val_loss: 0.0515 - val_accuracy: 0.9884\n",
      "Epoch 7/10\n",
      "689/689 [==============================] - 83s 120ms/step - loss: 0.3758 - accuracy: 0.8849 - val_loss: 0.0467 - val_accuracy: 0.9868\n",
      "Epoch 8/10\n",
      "689/689 [==============================] - 84s 122ms/step - loss: 0.3487 - accuracy: 0.8941 - val_loss: 0.0234 - val_accuracy: 0.9942\n",
      "Epoch 9/10\n",
      "689/689 [==============================] - 87s 126ms/step - loss: 0.3300 - accuracy: 0.8922 - val_loss: 0.0152 - val_accuracy: 0.9975\n",
      "Epoch 10/10\n",
      "689/689 [==============================] - 78s 114ms/step - loss: 0.2928 - accuracy: 0.9128 - val_loss: 0.0167 - val_accuracy: 0.9965\n"
     ]
    },
    {
     "data": {
      "text/plain": [
       "<keras.callbacks.History at 0x1f02fe28bb0>"
      ]
     },
     "execution_count": 15,
     "metadata": {},
     "output_type": "execute_result"
    }
   ],
   "source": [
    "classifier.fit(training_set,\n",
    "                  epochs = 10,\n",
    "                  validation_data = test_set)"
   ]
  },
  {
   "cell_type": "markdown",
   "metadata": {},
   "source": [
    "#### Saving the Model"
   ]
  },
  {
   "cell_type": "code",
   "execution_count": 16,
   "metadata": {},
   "outputs": [
    {
     "name": "stdout",
     "output_type": "stream",
     "text": [
      "Model Saved\n",
      "Weights saved\n"
     ]
    }
   ],
   "source": [
    "model_json = classifier.to_json()\n",
    "with open(\"model2.json\", \"w\") as json_file:\n",
    "    json_file.write(model_json)\n",
    "print('Model Saved')\n",
    "classifier.save_weights('model2.h5')\n",
    "print('Weights Saved')"
   ]
  },
  {
   "cell_type": "code",
   "execution_count": null,
   "metadata": {},
   "outputs": [],
   "source": [
    "'''\n",
    "Model 1 with accuracy - (72.23 percent)\n",
    "Epoch 1/5\n",
    "689/689 [==============================] - 83s 120ms/step - loss: 2.7978 - accuracy: 0.1771 - val_loss: 1.4679 - val_accuracy: 0.6250\n",
    "Epoch 2/5\n",
    "689/689 [==============================] - 83s 120ms/step - loss: 1.7788 - accuracy: 0.4417 - val_loss: 0.7421 - val_accuracy: 0.7949\n",
    "Epoch 3/5\n",
    "689/689 [==============================] - 83s 121ms/step - loss: 1.2947 - accuracy: 0.5870 - val_loss: 0.4095 - val_accuracy: 0.9016\n",
    "Epoch 4/5\n",
    "689/689 [==============================] - 85s 123ms/step - loss: 1.0450 - accuracy: 0.6613 - val_loss: 0.2113 - val_accuracy: 0.9356\n",
    "Epoch 5/5\n",
    "689/689 [==============================] - 110s 160ms/step - loss: 0.8632 - accuracy: 0.7226 - val_loss: 0.1610 - val_accuracy: 0.9574\n",
    "\n",
    "Model 2 is with accuracy - (91.28 percent)\n",
    "Epoch 1/10\n",
    "689/689 [==============================] - 94s 136ms/step - loss: 2.8161 - accuracy: 0.1807 - val_loss: 1.2765 - val_accuracy: 0.6910\n",
    "Epoch 2/10\n",
    "689/689 [==============================] - 85s 123ms/step - loss: 1.3010 - accuracy: 0.5958 - val_loss: 0.3856 - val_accuracy: 0.8922\n",
    "Epoch 3/10\n",
    "689/689 [==============================] - 88s 127ms/step - loss: 0.7904 - accuracy: 0.7565 - val_loss: 0.1317 - val_accuracy: 0.9609\n",
    "Epoch 4/10\n",
    "689/689 [==============================] - 84s 122ms/step - loss: 0.6211 - accuracy: 0.8066 - val_loss: 0.1210 - val_accuracy: 0.9600\n",
    "Epoch 5/10\n",
    "689/689 [==============================] - 87s 126ms/step - loss: 0.4964 - accuracy: 0.8456 - val_loss: 0.0716 - val_accuracy: 0.9815\n",
    "Epoch 6/10\n",
    "689/689 [==============================] - 85s 123ms/step - loss: 0.4190 - accuracy: 0.8685 - val_loss: 0.0515 - val_accuracy: 0.9884\n",
    "Epoch 7/10\n",
    "689/689 [==============================] - 83s 120ms/step - loss: 0.3758 - accuracy: 0.8849 - val_loss: 0.0467 - val_accuracy: 0.9868\n",
    "Epoch 8/10\n",
    "689/689 [==============================] - 84s 122ms/step - loss: 0.3487 - accuracy: 0.8941 - val_loss: 0.0234 - val_accuracy: 0.9942\n",
    "Epoch 9/10\n",
    "689/689 [==============================] - 87s 126ms/step - loss: 0.3300 - accuracy: 0.8922 - val_loss: 0.0152 - val_accuracy: 0.9975\n",
    "Epoch 10/10\n",
    "689/689 [==============================] - 78s 114ms/step - loss: 0.2928 - accuracy: 0.9128 - val_loss: 0.0167 - val_accuracy: 0.9965\n",
    "\n",
    "'''"
   ]
  }
 ],
 "metadata": {
  "kernelspec": {
   "display_name": "Python 3 (ipykernel)",
   "language": "python",
   "name": "python3"
  },
  "language_info": {
   "codemirror_mode": {
    "name": "ipython",
    "version": 3
   },
   "file_extension": ".py",
   "mimetype": "text/x-python",
   "name": "python",
   "nbconvert_exporter": "python",
   "pygments_lexer": "ipython3",
   "version": "3.8.10"
  }
 },
 "nbformat": 4,
 "nbformat_minor": 4
}
